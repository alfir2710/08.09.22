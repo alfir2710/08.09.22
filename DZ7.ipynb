{
  "nbformat": 4,
  "nbformat_minor": 0,
  "metadata": {
    "colab": {
      "provenance": [],
      "authorship_tag": "ABX9TyN0HhDP90DfQ211zxNBRve3",
      "include_colab_link": true
    },
    "kernelspec": {
      "name": "python3",
      "display_name": "Python 3"
    },
    "language_info": {
      "name": "python"
    }
  },
  "cells": [
    {
      "cell_type": "markdown",
      "metadata": {
        "id": "view-in-github",
        "colab_type": "text"
      },
      "source": [
        "<a href=\"https://colab.research.google.com/github/alfir2710/08.09.22/blob/main/DZ7.ipynb\" target=\"_parent\"><img src=\"https://colab.research.google.com/assets/colab-badge.svg\" alt=\"Open In Colab\"/></a>"
      ]
    },
    {
      "cell_type": "code",
      "execution_count": null,
      "metadata": {
        "id": "fPWVxcFBN4iW"
      },
      "outputs": [],
      "source": [
        "Выбрать тест и проверить, есть  ли различия между выборками:\n",
        "\n",
        "1 )  Даны две  независимые выборки. Не соблюдается условие нормальности\n",
        "\n",
        "x1  380,420, 290\n",
        "\n",
        "y1 140,360,200,900"
      ]
    },
    {
      "cell_type": "markdown",
      "source": [],
      "metadata": {
        "id": "K30kLpFiN5I7"
      }
    },
    {
      "cell_type": "code",
      "source": [
        "import numpy as np\n",
        "import scipy.stats as stats"
      ],
      "metadata": {
        "id": "6Lp-ZswQN8-w"
      },
      "execution_count": 1,
      "outputs": []
    },
    {
      "cell_type": "code",
      "source": [
        "x1=np.array([380,420,290])\n",
        "y1=np.array([140,360,200,900])\n",
        "alpha=0.05\n",
        "stats.mannwhitneyu(x1, y1)"
      ],
      "metadata": {
        "colab": {
          "base_uri": "https://localhost:8080/"
        },
        "id": "0WqKsKaIOJIW",
        "outputId": "3b88720d-25d1-40ba-8f06-753c00669138"
      },
      "execution_count": 2,
      "outputs": [
        {
          "output_type": "execute_result",
          "data": {
            "text/plain": [
              "MannwhitneyuResult(statistic=8.0, pvalue=0.6285714285714286)"
            ]
          },
          "metadata": {},
          "execution_count": 2
        }
      ]
    },
    {
      "cell_type": "markdown",
      "source": [
        "Сделайте вывод по результатам, полученным с помощью функции\n",
        "\n",
        "2 ) Исследовалось влияние препарата на уровень давления пациентов. Сначала измерялось давление до приема препарата, потом через 10 минут и через 30 минут. Есть ли статистически значимые различия?\n",
        "\n",
        "1е измерение до приема препарата: 150, 160, 165, 145, 155\n",
        "\n",
        "2е измерение через 10 минут: 140, 155, 150,  130, 135\n",
        "\n",
        "3е измерение через 30 минут: 130, 130, 120, 130, 125"
      ],
      "metadata": {
        "id": "hk6jnXsQOTe6"
      }
    },
    {
      "cell_type": "code",
      "source": [
        "x1=np.array([150, 160, 165, 145, 155])\n",
        "x2=np.array([140, 155, 150, 130, 135])\n",
        "x3=np.array([130, 130, 120, 130, 125])\n",
        "alpha=0.05\n",
        "stats.friedmanchisquare(x1, x2, x3)"
      ],
      "metadata": {
        "colab": {
          "base_uri": "https://localhost:8080/"
        },
        "id": "iwWePkpMOWcq",
        "outputId": "b1788df2-0b4f-449f-dd55-a1ff728ad064"
      },
      "execution_count": 3,
      "outputs": [
        {
          "output_type": "execute_result",
          "data": {
            "text/plain": [
              "FriedmanchisquareResult(statistic=9.578947368421062, pvalue=0.00831683351100441)"
            ]
          },
          "metadata": {},
          "execution_count": 3
        }
      ]
    },
    {
      "cell_type": "markdown",
      "source": [
        "3 ) Сравните 1 и 2 е измерения, предполагая, что 3го измерения через 30 минут не было.\n"
      ],
      "metadata": {
        "id": "DmehwUmaOfPO"
      }
    },
    {
      "cell_type": "code",
      "source": [
        "x1=np.array([150, 160, 165, 145, 155])\n",
        "x2=np.array([140, 155, 150, 130, 135])\n",
        "alpha=0.05\n",
        "stats.wilcoxon(x1, x2)"
      ],
      "metadata": {
        "colab": {
          "base_uri": "https://localhost:8080/"
        },
        "id": "iKBRNmLSOhTe",
        "outputId": "b33e60bb-d787-480f-ecd8-43335b6dbc61"
      },
      "execution_count": 4,
      "outputs": [
        {
          "output_type": "execute_result",
          "data": {
            "text/plain": [
              "WilcoxonResult(statistic=0.0, pvalue=0.0625)"
            ]
          },
          "metadata": {},
          "execution_count": 4
        }
      ]
    },
    {
      "cell_type": "markdown",
      "source": [
        "4) Даны 3 группы  учеников плавания.\n",
        "\n",
        "В 1 группе время на дистанцию 50 м составляют:\n",
        "\n",
        "56, 60, 62, 55, 71, 67, 59, 58, 64, 67\n",
        "\n",
        "Вторая группа : 57, 58, 69, 48, 72, 70, 68, 71, 50, 53\n",
        "\n",
        "Третья группа: 57, 67, 49, 48, 47, 55, 66, 51, 54"
      ],
      "metadata": {
        "id": "m3cGl5zOOvbJ"
      }
    },
    {
      "cell_type": "code",
      "source": [
        "x1=np.array([56, 60, 62, 55, 71, 67, 59, 58, 64, 67])\n",
        "x2=np.array([57, 58, 69, 48, 72, 70, 68, 71, 50, 53])\n",
        "x3=np.array([57, 67, 49, 48, 47, 55, 66, 51, 54])\n",
        "alpha=0.05\n",
        "stats.kruskal(x1,x2,x3)"
      ],
      "metadata": {
        "colab": {
          "base_uri": "https://localhost:8080/"
        },
        "id": "xOl0LFslOyDt",
        "outputId": "5a0a15ce-b58f-4c0c-c313-5cbafe003a86"
      },
      "execution_count": 5,
      "outputs": [
        {
          "output_type": "execute_result",
          "data": {
            "text/plain": [
              "KruskalResult(statistic=5.465564058257224, pvalue=0.0650380998590494)"
            ]
          },
          "metadata": {},
          "execution_count": 5
        }
      ]
    },
    {
      "cell_type": "markdown",
      "source": [
        "5) Заявляется, что партия изготавливается со средним арифметическим 2,5 см. Проверить данную гипотезу, если известно, что размеры изделий подчинены нормальному закону распределения. Объем выборки 10, уровень статистической значимости 5%\n",
        "\n",
        "2.51, 2.35, 2.74, 2.56, 2.40, 2.36, 2.65, 2.7, 2.67, 2.34"
      ],
      "metadata": {
        "id": "RNghkaq4O4Tt"
      }
    },
    {
      "cell_type": "code",
      "source": [
        "weights = np.array([2.51, 2.35, 2.74, 2.56, 2.40, 2.36, 2.65, 2.7, 2.67, 2.34])\n",
        "n = 10\n",
        "mean = weights.mean()\n",
        "std = weights.std(ddof=1)\n",
        "mean, std"
      ],
      "metadata": {
        "colab": {
          "base_uri": "https://localhost:8080/"
        },
        "id": "mn5v9GoRO6Ig",
        "outputId": "ed0103bf-0941-4530-b5a1-b2b54b209ab4"
      },
      "execution_count": 6,
      "outputs": [
        {
          "output_type": "execute_result",
          "data": {
            "text/plain": [
              "(2.5279999999999996, 0.1572542173961923)"
            ]
          },
          "metadata": {},
          "execution_count": 6
        }
      ]
    },
    {
      "cell_type": "code",
      "source": [
        "t = (mean-2.5)/(std/np.sqrt(n)) \n",
        "t"
      ],
      "metadata": {
        "colab": {
          "base_uri": "https://localhost:8080/"
        },
        "id": "7-1DLkPXPAV8",
        "outputId": "474ebf70-2d86-4b50-f29d-1ce054108983"
      },
      "execution_count": 7,
      "outputs": [
        {
          "output_type": "execute_result",
          "data": {
            "text/plain": [
              "0.5630613661802959"
            ]
          },
          "metadata": {},
          "execution_count": 7
        }
      ]
    }
  ]
}